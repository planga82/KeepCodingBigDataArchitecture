{
 "cells": [
  {
   "cell_type": "code",
   "execution_count": 1,
   "metadata": {},
   "outputs": [],
   "source": [
    "#Dado que no tengo una WEB de donde cargar os datos, lo he simulado con un fichero.\n",
    "\n",
    "\n",
    "# import de módulos necesarios\n",
    "\n",
    "import hdfs\n",
    "import os, sys\n",
    "from hdfs import InsecureClient\n",
    "import urllib2\n",
    "from bs4 import BeautifulSoup"
   ]
  },
  {
   "cell_type": "code",
   "execution_count": 13,
   "metadata": {},
   "outputs": [],
   "source": [
    "wiki = \"file:/home/pablo/EntornosTrabajo/KeepCodingBigDataArchitecture/simulatedFiles/Perfiles_Usuario.html\"\n",
    "page = urllib2.urlopen(wiki)"
   ]
  },
  {
   "cell_type": "code",
   "execution_count": 14,
   "metadata": {},
   "outputs": [
    {
     "name": "stdout",
     "output_type": "stream",
     "text": [
      "<!DOCTYPE html>\n",
      "<html>\n",
      " <head>\n",
      "  <style>\n",
      "   table {\n",
      "    font-family: arial, sans-serif;\n",
      "    border-collapse: collapse;\n",
      "    width: 100%;\n",
      "}\n",
      "\n",
      "td, th {\n",
      "    border: 1px solid #dddddd;\n",
      "    text-align: left;\n",
      "    padding: 8px;\n",
      "}\n",
      "\n",
      "tr:nth-child(even) {\n",
      "    background-color: #dddddd;\n",
      "}\n",
      "  </style>\n",
      " </head>\n",
      " <body>\n",
      "  <table>\n",
      "   <tr>\n",
      "    <th>\n",
      "     Age range init (years)\n",
      "    </th>\n",
      "    <th>\n",
      "     Age range end (years)\n",
      "    </th>\n",
      "    <th>\n",
      "     Profie\n",
      "    </th>\n",
      "   </tr>\n",
      "   <tr>\n",
      "    <td>\n",
      "     0\n",
      "    </td>\n",
      "    <td>\n",
      "     10\n",
      "    </td>\n",
      "    <td>\n",
      "     Nativo digital\n",
      "    </td>\n",
      "   </tr>\n",
      "   <tr>\n",
      "    <td>\n",
      "     11\n",
      "    </td>\n",
      "    <td>\n",
      "     20\n",
      "    </td>\n",
      "    <td>\n",
      "     Nativo digital avanzado\n",
      "    </td>\n",
      "   </tr>\n",
      "   <tr>\n",
      "    <td>\n",
      "     21\n",
      "    </td>\n",
      "    <td>\n",
      "     30\n",
      "    </td>\n",
      "    <td>\n",
      "     Nativo digital experimentado\n",
      "    </td>\n",
      "   </tr>\n",
      "   <tr>\n",
      "    <td>\n",
      "     31\n",
      "    </td>\n",
      "    <td>\n",
      "     50\n",
      "    </td>\n",
      "    <td>\n",
      "     No nativo digital\n",
      "    </td>\n",
      "   </tr>\n",
      "   <tr>\n",
      "    <td>\n",
      "     51\n",
      "    </td>\n",
      "    <td>\n",
      "     80\n",
      "    </td>\n",
      "    <td>\n",
      "     Poco uso\n",
      "    </td>\n",
      "   </tr>\n",
      "  </table>\n",
      " </body>\n",
      "</html>\n",
      "\n"
     ]
    }
   ],
   "source": [
    "soup = BeautifulSoup(page)\n",
    "print soup.prettify()"
   ]
  },
  {
   "cell_type": "code",
   "execution_count": 15,
   "metadata": {},
   "outputs": [],
   "source": [
    "table=soup.find_all('table')[0]"
   ]
  },
  {
   "cell_type": "code",
   "execution_count": 20,
   "metadata": {},
   "outputs": [
    {
     "name": "stdout",
     "output_type": "stream",
     "text": [
      "0,10,Nativo digital\n",
      "11,20,Nativo digital avanzado\n",
      "21,30,Nativo digital experimentado\n",
      "31,50,No nativo digital\n",
      "51,80,Poco uso\n",
      "\n"
     ]
    }
   ],
   "source": [
    "csvToLoad = ''\n",
    "for row in table.findAll(\"tr\"):\n",
    "    cells = row.findAll('td')\n",
    "    if len(cells)==3:\n",
    "        edadIni = cells[0].find(text=True)\n",
    "        edadFin = cells[1].find(text=True)\n",
    "        tipo = cells[2].find(text=True)\n",
    "        csvToLoad = csvToLoad + edadIni + ',' + edadFin + ',' + tipo + '\\n'\n",
    "print csvToLoad"
   ]
  },
  {
   "cell_type": "code",
   "execution_count": 21,
   "metadata": {
    "collapsed": true
   },
   "outputs": [],
   "source": [
    "# apertura de sesion con WebHDFS\n",
    "client = InsecureClient('http://sandbox.hortonworks.com:50070', user='hdfs', timeout=1000)"
   ]
  },
  {
   "cell_type": "code",
   "execution_count": 22,
   "metadata": {
    "collapsed": true
   },
   "outputs": [],
   "source": [
    "dest_file = \"Perfiles_Usuario.txt\"\n",
    "dest_path = \"/kcbda/rawFiles/\"\n",
    "dpath = dest_path + dest_file"
   ]
  },
  {
   "cell_type": "code",
   "execution_count": 23,
   "metadata": {},
   "outputs": [
    {
     "data": {
      "text/plain": [
       "False"
      ]
     },
     "execution_count": 23,
     "metadata": {},
     "output_type": "execute_result"
    }
   ],
   "source": [
    "# Borramos el fichero se no es una carga inicial\n",
    "client.delete(dpath)"
   ]
  },
  {
   "cell_type": "code",
   "execution_count": 24,
   "metadata": {
    "collapsed": true
   },
   "outputs": [],
   "source": [
    "client.write(dpath,data=csvToLoad)"
   ]
  },
  {
   "cell_type": "code",
   "execution_count": null,
   "metadata": {
    "collapsed": true
   },
   "outputs": [],
   "source": []
  }
 ],
 "metadata": {
  "kernelspec": {
   "display_name": "Python 2",
   "language": "python",
   "name": "python2"
  },
  "language_info": {
   "codemirror_mode": {
    "name": "ipython",
    "version": 2
   },
   "file_extension": ".py",
   "mimetype": "text/x-python",
   "name": "python",
   "nbconvert_exporter": "python",
   "pygments_lexer": "ipython2",
   "version": "2.7.14"
  }
 },
 "nbformat": 4,
 "nbformat_minor": 2
}
